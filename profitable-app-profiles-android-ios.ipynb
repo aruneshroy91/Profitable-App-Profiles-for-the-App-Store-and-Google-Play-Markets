{
 "cells": [
  {
   "cell_type": "markdown",
   "metadata": {},
   "source": [
    "# Profitable app Profiles for the App Store and Google Play\r\n",
    "\r\n",
    "Analyze data to understand what type of apps are likely to attract more users"
   ]
  },
  {
   "cell_type": "code",
   "execution_count": 1,
   "metadata": {},
   "outputs": [],
   "source": [
    "import re\r\n",
    "import csv\r\n",
    "import random"
   ]
  },
  {
   "cell_type": "code",
   "execution_count": 2,
   "metadata": {},
   "outputs": [],
   "source": [
    "with open('AppleStore.csv', encoding='utf8', newline = '') as f:\r\n",
    "    reader1 = csv.reader(f)\r\n",
    "    ios_data = list(reader1)\r\n",
    "with open('googleplaystore.csv', encoding='utf8', newline = '') as f:\r\n",
    "    reader2 = csv.reader(f)    \r\n",
    "    google_data = list(reader2)"
   ]
  },
  {
   "cell_type": "code",
   "execution_count": 3,
   "metadata": {},
   "outputs": [],
   "source": [
    "def explore_data(dataset, start, end, rows_and_columns=False):\r\n",
    "    dataset_slice = dataset[start:end]    \r\n",
    "    for row in dataset_slice:\r\n",
    "        print(row)\r\n",
    "    if rows_and_columns:\r\n",
    "        print(\"Number of rows:\", len(dataset))\r\n",
    "        print('Number of columns:', len(dataset[0]))"
   ]
  },
  {
   "cell_type": "code",
   "execution_count": 4,
   "metadata": {},
   "outputs": [
    {
     "name": "stdout",
     "output_type": "stream",
     "text": [
      "['id', 'track_name', 'size_bytes', 'currency', 'price', 'rating_count_tot', 'rating_count_ver', 'user_rating', 'user_rating_ver', 'ver', 'cont_rating', 'prime_genre', 'sup_devices.num', 'ipadSc_urls.num', 'lang.num', 'vpp_lic']\n"
     ]
    },
    {
     "data": {
      "text/plain": "7198"
     },
     "execution_count": 4,
     "metadata": {},
     "output_type": "execute_result"
    }
   ],
   "source": [
    "explore_data(ios_data, start= 0, end= 1, rows_and_columns= False)\r\n",
    "len(ios_data)"
   ]
  },
  {
   "cell_type": "code",
   "execution_count": 5,
   "metadata": {},
   "outputs": [
    {
     "name": "stdout",
     "output_type": "stream",
     "text": [
      "['App', 'Category', 'Rating', 'Reviews', 'Size', 'Installs', 'Type', 'Price', 'Content Rating', 'Genres', 'Last Updated', 'Current Ver', 'Android Ver']\n",
      "['id', 'track_name', 'size_bytes', 'currency', 'price', 'rating_count_tot', 'rating_count_ver', 'user_rating', 'user_rating_ver', 'ver', 'cont_rating', 'prime_genre', 'sup_devices.num', 'ipadSc_urls.num', 'lang.num', 'vpp_lic']\n"
     ]
    }
   ],
   "source": [
    "explore_data(dataset= google_data, start= 0, end= 1, rows_and_columns= False)\r\n",
    "explore_data(dataset= ios_data, start=0, end=1, rows_and_columns= False)"
   ]
  },
  {
   "cell_type": "markdown",
   "metadata": {},
   "source": [
    "## Description of the Apple Store dataset \r\n",
    "One can find the dataset [here](https://www.kaggle.com/ramamet4/app-store-apple-data-set-10k-apps).\r\n",
    "The columns headers descriptions are:-\r\n",
    "* \"id\" : App ID\r\n",
    "* \"track_name\": App Name\r\n",
    "* \"size_bytes\": Size (in Bytes)\r\n",
    "* \"currency\": Currency Type\r\n",
    "* \"price\": Price amount\r\n",
    "* \"ratingcounttot\": User Rating counts (for all version)\r\n",
    "* \"ratingcountver\": User Rating counts (for current version)\r\n",
    "* \"user_rating\" : Average User Rating value (for all version)\r\n",
    "* \"userratingver\": Average User Rating value (for current version)\r\n",
    "* \"ver\" : Latest version code\r\n",
    "* \"cont_rating\": Content Rating\r\n",
    "* \"prime_genre\": Primary Genre\r\n",
    "* \"sup_devices.num\": Number of supporting devices\r\n",
    "* \"ipadSc_urls.num\": Number of screenshots showed for display\r\n",
    "* \"lang.num\": Number of supported languages\r\n",
    "* \"vpp_lic\": Vpp Device Based Licensing Enabled"
   ]
  },
  {
   "cell_type": "code",
   "execution_count": 6,
   "metadata": {},
   "outputs": [
    {
     "name": "stdout",
     "output_type": "stream",
     "text": [
      "['id', 'track_name', 'size_bytes', 'currency', 'price', 'rating_count_tot', 'rating_count_ver', 'user_rating', 'user_rating_ver', 'ver', 'cont_rating', 'prime_genre', 'sup_devices.num', 'ipadSc_urls.num', 'lang.num', 'vpp_lic']\n"
     ]
    }
   ],
   "source": [
    "explore_data(dataset= ios_data, start= 0,end= 1, rows_and_columns= False)"
   ]
  },
  {
   "cell_type": "markdown",
   "metadata": {},
   "source": [
    "## Description of the Google playstore dataset\r\n",
    "The link to the description of the dataset is [here](https://www.kaggle.com/lava18/google-play-store-apps)\r\n",
    "* \"App\" : Application name\r\n",
    "* \"Category\" : Category the app belongs to\r\n",
    "* \"Rating\" : Overall user rating of the app (as when scraped)\r\n",
    "* \"Reviews\" : Number of user reviews for the app (as when scraped)\r\n",
    "* \"Size\" : Size of the app (as when scraped)\r\n",
    "* \"Installs\" : Number of user downloads/installs for the app (as when scraped)\r\n",
    "* \"Type\" : Paid or Free\r\n",
    "* \"Price\" : Price of the app (as when scraped)\r\n",
    "* \"Content Rating\" : Age group the app is targeted at - Children / Mature 21+ / Adult\r\n",
    "* \"Genres\" : An app can belong to multiple genres (apart from its main category). For eg, a musical family game will belong to Music, Game, Family genres."
   ]
  },
  {
   "cell_type": "code",
   "execution_count": 7,
   "metadata": {},
   "outputs": [
    {
     "name": "stdout",
     "output_type": "stream",
     "text": [
      "['App', 'Category', 'Rating', 'Reviews', 'Size', 'Installs', 'Type', 'Price', 'Content Rating', 'Genres', 'Last Updated', 'Current Ver', 'Android Ver']\n"
     ]
    }
   ],
   "source": [
    "explore_data(dataset= google_data, start= 0,end= 1, rows_and_columns= False)"
   ]
  },
  {
   "cell_type": "markdown",
   "metadata": {},
   "source": [
    "## Data Cleaning\r\n",
    "We are interested in free English apps\r\n",
    "* Remove non-english apps\r\n",
    "* Remove apps that are not free"
   ]
  },
  {
   "cell_type": "code",
   "execution_count": 8,
   "metadata": {},
   "outputs": [
    {
     "name": "stdout",
     "output_type": "stream",
     "text": [
      "['Life Made WI-Fi Touchscreen Photo Frame', '1.9', '19', '3.0M', '1,000+', 'Free', '0', 'Everyone', '', 'February 11, 2018', '1.0.19', '4.0 and up']\n"
     ]
    }
   ],
   "source": [
    "explore_data(dataset= google_data, start= 10473,end= 10474, rows_and_columns= False)\r\n",
    "del google_data[10473]"
   ]
  },
  {
   "cell_type": "code",
   "execution_count": 9,
   "metadata": {},
   "outputs": [
    {
     "name": "stdout",
     "output_type": "stream",
     "text": [
      "['osmino Wi-Fi: free WiFi', 'TOOLS', '4.2', '134203', '4.1M', '10,000,000+', 'Free', '0', 'Everyone', 'Tools', 'August 7, 2018', '6.06.14', '4.4 and up']\n"
     ]
    }
   ],
   "source": [
    "explore_data(dataset= google_data, start= 10473,end= 10474, rows_and_columns= False)"
   ]
  },
  {
   "cell_type": "markdown",
   "metadata": {},
   "source": [
    "## Remove duplicate entries\r\n",
    "* Check whether the data contains any app data for multiple times.\r\n",
    "* Print any duplicate app occurence from the main data.\r\n",
    "\r\n",
    "Below we show that the data indeed contains duplicate entries. We print few instances of an app which has duplicate entries. We won't remove the duplicate entries randdomly. Instead we will remove these duplicates by their number of reviews. The higher the number of reviews, more recent the data is."
   ]
  },
  {
   "cell_type": "code",
   "execution_count": 10,
   "metadata": {},
   "outputs": [
    {
     "name": "stdout",
     "output_type": "stream",
     "text": [
      "['U Launcher Lite – FREE Live Cool Themes, Hide Apps', 'ART_AND_DESIGN', '4.7', '87510', '8.7M', '5,000,000+', 'Free', '0', 'Everyone', 'Art & Design', 'August 1, 2018', '1.2.4', '4.0.3 and up']\n",
      "Facebook\n"
     ]
    }
   ],
   "source": [
    "print(google_data[3])\r\n",
    "print(ios_data[1][1])"
   ]
  },
  {
   "cell_type": "code",
   "execution_count": 11,
   "metadata": {},
   "outputs": [
    {
     "name": "stdout",
     "output_type": "stream",
     "text": [
      "9659\n",
      "['Instagram', 'SOCIAL', '4.5', '66577313', 'Varies with device', '1,000,000,000+', 'Free', '0', 'Teen', 'Social', 'July 31, 2018', 'Varies with device', 'Varies with device']\n",
      "['Instagram', 'SOCIAL', '4.5', '66577446', 'Varies with device', '1,000,000,000+', 'Free', '0', 'Teen', 'Social', 'July 31, 2018', 'Varies with device', 'Varies with device']\n",
      "['Instagram', 'SOCIAL', '4.5', '66577313', 'Varies with device', '1,000,000,000+', 'Free', '0', 'Teen', 'Social', 'July 31, 2018', 'Varies with device', 'Varies with device']\n",
      "['Instagram', 'SOCIAL', '4.5', '66509917', 'Varies with device', '1,000,000,000+', 'Free', '0', 'Teen', 'Social', 'July 31, 2018', 'Varies with device', 'Varies with device']\n"
     ]
    }
   ],
   "source": [
    "duplicate_apps = []\r\n",
    "unique_apps = []\r\n",
    "for app in google_data[1:]:\r\n",
    "    app_name = app[0]\r\n",
    "    if app_name not in unique_apps:\r\n",
    "        unique_apps.append(app_name)\r\n",
    "    else:\r\n",
    "        duplicate_apps.append(app_name)\r\n",
    "print(len(unique_apps))\r\n",
    "\r\n",
    "verify_unique = 'Instagram'\r\n",
    "for app in google_data:\r\n",
    "    app_name = app[0]\r\n",
    "    if app_name == verify_unique:\r\n",
    "        print(app)"
   ]
  },
  {
   "cell_type": "markdown",
   "metadata": {},
   "source": [
    "### Cleaned unique data\r\n",
    "* We curated a dictonary using the number of reviews as stated above to find the app data corresponsing to the maximum number of reviews. \r\n",
    "* We used to lists here. One for the cleaned data, second for the already added app names. If the number of reviews is maximum, we append the corresponding entry to the android_clean list."
   ]
  },
  {
   "cell_type": "code",
   "execution_count": 12,
   "metadata": {},
   "outputs": [
    {
     "data": {
      "text/plain": "9659"
     },
     "execution_count": 12,
     "metadata": {},
     "output_type": "execute_result"
    }
   ],
   "source": [
    "# Dictionary with unique app name\r\n",
    "reviews_max = {}\r\n",
    "for app in google_data[1:]:\r\n",
    "    name = app[0]\r\n",
    "    n_reviews = float(app[3])\r\n",
    "    if (name in reviews_max) and (reviews_max[name] <= n_reviews):\r\n",
    "        reviews_max[name] = n_reviews\r\n",
    "    elif name not in reviews_max:\r\n",
    "        reviews_max[name] = n_reviews\r\n",
    "len(reviews_max)"
   ]
  },
  {
   "cell_type": "code",
   "execution_count": 13,
   "metadata": {},
   "outputs": [
    {
     "data": {
      "text/plain": "['Photo Editor & Candy Camera & Grid & ScrapBook',\n 'ART_AND_DESIGN',\n '4.1',\n '159',\n '19M',\n '10,000+',\n 'Free',\n '0',\n 'Everyone',\n 'Art & Design',\n 'January 7, 2018',\n '1.0.0',\n '4.0.3 and up']"
     },
     "execution_count": 13,
     "metadata": {},
     "output_type": "execute_result"
    }
   ],
   "source": [
    "android_clean = []\r\n",
    "already_added = []\r\n",
    "for app in google_data[1:]:\r\n",
    "    name = app[0]\r\n",
    "    n_reviews = float(app[3])\r\n",
    "    if n_reviews == reviews_max[name] and name not in already_added:\r\n",
    "        android_clean.append(app)\r\n",
    "        already_added.append(name)\r\n",
    "len(android_clean)\r\n",
    "android_clean[0]"
   ]
  },
  {
   "cell_type": "markdown",
   "metadata": {},
   "source": [
    "### iOS data do not contain duplicate entries\r\n",
    "Number of iOS apps are same as APP ID which is unique"
   ]
  },
  {
   "cell_type": "code",
   "execution_count": 14,
   "metadata": {},
   "outputs": [
    {
     "data": {
      "text/plain": "7198"
     },
     "execution_count": 14,
     "metadata": {},
     "output_type": "execute_result"
    }
   ],
   "source": [
    "ios_app_ids = []\r\n",
    "\r\n",
    "for ios_app in ios_data:\r\n",
    "    ios_app_ids.append(ios_app[0])\r\n",
    "\r\n",
    "len(ios_app_ids)"
   ]
  },
  {
   "cell_type": "markdown",
   "metadata": {},
   "source": [
    "### Filter non-English apps\r\n",
    "We will focus here only on the English apps"
   ]
  },
  {
   "cell_type": "code",
   "execution_count": 15,
   "metadata": {},
   "outputs": [
    {
     "name": "stdout",
     "output_type": "stream",
     "text": [
      "ὀ\n",
      "128540\n",
      "False\n"
     ]
    }
   ],
   "source": [
    "print(chr(8000))\r\n",
    "print(ord('😜'))\r\n",
    "print(True and False and True)"
   ]
  },
  {
   "cell_type": "code",
   "execution_count": 16,
   "metadata": {},
   "outputs": [],
   "source": [
    "def engtest(a):\r\n",
    "    test = []\r\n",
    "    for c in a:\r\n",
    "        test.append(ord(c)>127)\r\n",
    "    if sum(test)<=3:\r\n",
    "        return True\r\n",
    "    else: \r\n",
    "        return False"
   ]
  },
  {
   "cell_type": "code",
   "execution_count": 17,
   "metadata": {},
   "outputs": [
    {
     "name": "stdout",
     "output_type": "stream",
     "text": [
      "True\n"
     ]
    }
   ],
   "source": [
    "a = 'Instachat 😜'\r\n",
    "test = []\r\n",
    "for c in a:\r\n",
    "    test.append(ord(c)>127)\r\n",
    "if sum(test)<=3:\r\n",
    "    print('True')\r\n",
    "else: \r\n",
    "    print('False')\r\n",
    "#True in test and (len(test)-sum(test)<=3)"
   ]
  },
  {
   "cell_type": "code",
   "execution_count": 18,
   "metadata": {},
   "outputs": [
    {
     "data": {
      "text/plain": "True"
     },
     "execution_count": 18,
     "metadata": {},
     "output_type": "execute_result"
    }
   ],
   "source": [
    "engtest('abc')"
   ]
  },
  {
   "cell_type": "code",
   "execution_count": 19,
   "metadata": {},
   "outputs": [
    {
     "name": "stdout",
     "output_type": "stream",
     "text": [
      "True\n",
      "False\n",
      "True\n",
      "True\n"
     ]
    }
   ],
   "source": [
    "# test of engtest\r\n",
    "print(engtest('Instagram'))\r\n",
    "print(engtest('爱奇艺PPS -《欢乐颂2》电视剧热播'))\r\n",
    "print(engtest('Docs To Go™ Free Office Suite'))\r\n",
    "print(engtest('Instachat 😜'))"
   ]
  },
  {
   "cell_type": "code",
   "execution_count": 20,
   "metadata": {},
   "outputs": [
    {
     "name": "stdout",
     "output_type": "stream",
     "text": [
      "9614\n",
      "6183\n"
     ]
    }
   ],
   "source": [
    "android_clean_english = []\r\n",
    "android_clean_other = []\r\n",
    "ios_clean_english = []\r\n",
    "ios_clean_other = []\r\n",
    "for app in android_clean:\r\n",
    "    if engtest(app[0]) is True:\r\n",
    "        android_clean_english.append(app)\r\n",
    "    else:\r\n",
    "        android_clean_other.append(app)\r\n",
    "for app in ios_data[1:]:\r\n",
    "    if engtest(app[1]) is True:\r\n",
    "        ios_clean_english.append(app)\r\n",
    "    else:\r\n",
    "        ios_clean_other.append(app)\r\n",
    "print(len(android_clean_english))\r\n",
    "print(len(ios_clean_english)) "
   ]
  },
  {
   "cell_type": "code",
   "execution_count": 21,
   "metadata": {},
   "outputs": [
    {
     "name": "stdout",
     "output_type": "stream",
     "text": [
      "['Al Quran Free - القرآن (Islam)', 'BOOKS_AND_REFERENCE', '4.7', '1777', '23M', '50,000+', 'Free', '0', 'Everyone', 'Books & Reference', 'February 15, 2015', '1.1', '2.2 and up']\n",
      "['1081270431', 'どうして私じゃダメなの？', '45325312', 'USD', '0.0', '0', '0', '0.0', '0.0', '1.0.2', '4+', 'Games', '38', '4', '1', '1']\n"
     ]
    }
   ],
   "source": [
    "print(android_clean_other[random.randint(0,len(android_clean_other))])\r\n",
    "print(ios_clean_other[random.randint(0,len(ios_clean_other))])"
   ]
  },
  {
   "cell_type": "code",
   "execution_count": 22,
   "metadata": {},
   "outputs": [
    {
     "data": {
      "text/plain": "['529479190',\n 'Clash of Clans',\n '116476928',\n 'USD',\n '0.0',\n '2130805',\n '579',\n '4.5',\n '4.5',\n '9.24.12',\n '9+',\n 'Games',\n '38',\n '5',\n '18',\n '1']"
     },
     "execution_count": 22,
     "metadata": {},
     "output_type": "execute_result"
    }
   ],
   "source": [
    "ios_clean_english[2]"
   ]
  },
  {
   "cell_type": "markdown",
   "metadata": {},
   "source": [
    "### Identify the free apps"
   ]
  },
  {
   "cell_type": "code",
   "execution_count": 23,
   "metadata": {},
   "outputs": [],
   "source": [
    "android_clean_english_free = []\r\n",
    "android_clean_english_nonfree = []\r\n",
    "for app in android_clean_english:\r\n",
    "    if app[7] == '0':\r\n",
    "        android_clean_english_free.append(app)\r\n",
    "    else:\r\n",
    "        android_clean_english_nonfree.append(app)\r\n",
    "ios_clean_english_free = []\r\n",
    "ios_clean_english_nonfree = []\r\n",
    "for app in ios_clean_english:\r\n",
    "    if app[4] == '0.0':\r\n",
    "        ios_clean_english_free.append(app)\r\n",
    "    else:\r\n",
    "        ios_clean_english_nonfree.append(app)\r\n"
   ]
  },
  {
   "cell_type": "code",
   "execution_count": 24,
   "metadata": {},
   "outputs": [
    {
     "name": "stdout",
     "output_type": "stream",
     "text": [
      "['U Launcher Lite – FREE Live Cool Themes, Hide Apps', 'ART_AND_DESIGN', '4.7', '87510', '8.7M', '5,000,000+', 'Free', '0', 'Everyone', 'Art & Design', 'August 1, 2018', '1.2.4', '4.0.3 and up']\n",
      "['Tiny Scanner Pro: PDF Doc Scan', 'BUSINESS', '4.8', '10295', '39M', '100,000+', 'Paid', '$4.99', 'Everyone', 'Business', 'April 11, 2017', '3.4.6', '3.0 and up']\n",
      "['389801252', 'Instagram', '113954816', 'USD', '0.0', '2161558', '1289', '4.5', '4.0', '10.23', '12+', 'Photo & Video', '37', '0', '29', '1']\n",
      "['500116670', 'Clear Vision (17+)', '37879808', 'USD', '0.99', '541693', '69225', '4.5', '4.5', '1.1.3', '17+', 'Games', '43', '5', '1', '1']\n"
     ]
    }
   ],
   "source": [
    "print(android_clean_english_free[1])\r\n",
    "print((android_clean_english_nonfree[1]))\r\n",
    "print(ios_clean_english_free[1])\r\n",
    "print(ios_clean_english_nonfree[1])"
   ]
  },
  {
   "cell_type": "code",
   "execution_count": 25,
   "metadata": {},
   "outputs": [
    {
     "name": "stdout",
     "output_type": "stream",
     "text": [
      "8864\n",
      "3222\n"
     ]
    }
   ],
   "source": [
    "print(len(android_clean_english_free))\r\n",
    "print(len(ios_clean_english_free))"
   ]
  },
  {
   "cell_type": "code",
   "execution_count": 26,
   "metadata": {},
   "outputs": [
    {
     "name": "stdout",
     "output_type": "stream",
     "text": [
      "['App', 'Category', 'Rating', 'Reviews', 'Size', 'Installs', 'Type', 'Price', 'Content Rating', 'Genres', 'Last Updated', 'Current Ver', 'Android Ver']\n",
      "['id', 'track_name', 'size_bytes', 'currency', 'price', 'rating_count_tot', 'rating_count_ver', 'user_rating', 'user_rating_ver', 'ver', 'cont_rating', 'prime_genre', 'sup_devices.num', 'ipadSc_urls.num', 'lang.num', 'vpp_lic']\n"
     ]
    }
   ],
   "source": [
    "explore_data(dataset= google_data, start= 0, end= 1, rows_and_columns= False)\r\n",
    "explore_data(dataset= ios_data, start=0, end=1, rows_and_columns= False)"
   ]
  },
  {
   "cell_type": "markdown",
   "metadata": {},
   "source": [
    "### Find an app profile that fits both the App Store and Google Play\r\n",
    "* An app that is profitable in both the android and ios market\r\n",
    "* First we test the app on the Google Play.\r\n",
    "* If the apps turns out to be profitable, we build for ios.\r\n",
    "* To find the profitable genre from the Play Store data, we can use \"Category\", \"Rating\", \"Reviews\", \"Genre\"\r\n",
    "* To find the profitable genre from the App Store data, we can use \"rating_count_tot\", \"user_rating\", \"cont_rating\", \"prime_genre\" "
   ]
  },
  {
   "cell_type": "code",
   "execution_count": 27,
   "metadata": {},
   "outputs": [],
   "source": [
    "def freq_table(dataset, index):\r\n",
    "    col_dict = {}\r\n",
    "    for app in dataset:\r\n",
    "        app_col = app[index]\r\n",
    "        if app_col not in col_dict:\r\n",
    "            col_dict[app_col] = 1\r\n",
    "        else:\r\n",
    "            col_dict[app_col] +=1\r\n",
    "    total_counts = sum(col_dict.values())\r\n",
    "    for element in col_dict:\r\n",
    "        col_dict[element] = round((col_dict[element]/total_counts)*100,2)\r\n",
    "    return col_dict\r\n",
    "#freq_table(ios_clean_english_free, 11)"
   ]
  },
  {
   "cell_type": "code",
   "execution_count": 28,
   "metadata": {},
   "outputs": [],
   "source": [
    "def display_table(dataset, index):\r\n",
    "    table = freq_table(dataset, index)\r\n",
    "    table_display = []\r\n",
    "    for key in table:\r\n",
    "        key_val_as_tuple = (table[key], key)\r\n",
    "        table_display.append(key_val_as_tuple)\r\n",
    "\r\n",
    "    table_sorted = sorted(table_display, reverse = True)\r\n",
    "    for entry in table_sorted:\r\n",
    "        print(entry[1], ':', entry[0])"
   ]
  },
  {
   "cell_type": "code",
   "execution_count": 29,
   "metadata": {},
   "outputs": [
    {
     "name": "stdout",
     "output_type": "stream",
     "text": [
      "prime_genre_freq-----------------------\n",
      "Games : 58.16\n",
      "Entertainment : 7.88\n",
      "Photo & Video : 4.97\n",
      "Education : 3.66\n",
      "Social Networking : 3.29\n",
      "Shopping : 2.61\n",
      "Utilities : 2.51\n",
      "Sports : 2.14\n",
      "Music : 2.05\n",
      "Health & Fitness : 2.02\n",
      "Productivity : 1.74\n",
      "Lifestyle : 1.58\n",
      "News : 1.33\n",
      "Travel : 1.24\n",
      "Finance : 1.12\n",
      "Weather : 0.87\n",
      "Food & Drink : 0.81\n",
      "Reference : 0.56\n",
      "Business : 0.53\n",
      "Book : 0.43\n",
      "Navigation : 0.19\n",
      "Medical : 0.19\n",
      "Catalogs : 0.12\n",
      "genre_freq------------------------\n",
      "Tools : 8.45\n",
      "Entertainment : 6.07\n",
      "Education : 5.35\n",
      "Business : 4.59\n",
      "Productivity : 3.89\n",
      "Lifestyle : 3.89\n",
      "Finance : 3.7\n",
      "Medical : 3.53\n",
      "Sports : 3.46\n",
      "Personalization : 3.32\n",
      "Communication : 3.24\n",
      "Action : 3.1\n",
      "Health & Fitness : 3.08\n",
      "Photography : 2.94\n",
      "News & Magazines : 2.8\n",
      "Social : 2.66\n",
      "Travel & Local : 2.32\n",
      "Shopping : 2.25\n",
      "Books & Reference : 2.14\n",
      "Simulation : 2.04\n",
      "Dating : 1.86\n",
      "Arcade : 1.85\n",
      "Video Players & Editors : 1.77\n",
      "Casual : 1.76\n",
      "Maps & Navigation : 1.4\n",
      "Food & Drink : 1.24\n",
      "Puzzle : 1.13\n",
      "Racing : 0.99\n",
      "Role Playing : 0.94\n",
      "Libraries & Demo : 0.94\n",
      "Auto & Vehicles : 0.93\n",
      "Strategy : 0.91\n",
      "House & Home : 0.82\n",
      "Weather : 0.8\n",
      "Events : 0.71\n",
      "Adventure : 0.68\n",
      "Comics : 0.61\n",
      "Beauty : 0.6\n",
      "Art & Design : 0.6\n",
      "Parenting : 0.5\n",
      "Card : 0.45\n",
      "Casino : 0.43\n",
      "Trivia : 0.42\n",
      "Educational;Education : 0.39\n",
      "Board : 0.38\n",
      "Educational : 0.37\n",
      "Education;Education : 0.34\n",
      "Word : 0.26\n",
      "Casual;Pretend Play : 0.24\n",
      "Music : 0.2\n",
      "Racing;Action & Adventure : 0.17\n",
      "Puzzle;Brain Games : 0.17\n",
      "Entertainment;Music & Video : 0.17\n",
      "Casual;Brain Games : 0.14\n",
      "Casual;Action & Adventure : 0.14\n",
      "Arcade;Action & Adventure : 0.12\n",
      "Action;Action & Adventure : 0.1\n",
      "Educational;Pretend Play : 0.09\n",
      "Simulation;Action & Adventure : 0.08\n",
      "Parenting;Education : 0.08\n",
      "Entertainment;Brain Games : 0.08\n",
      "Board;Brain Games : 0.08\n",
      "Parenting;Music & Video : 0.07\n",
      "Educational;Brain Games : 0.07\n",
      "Casual;Creativity : 0.07\n",
      "Art & Design;Creativity : 0.07\n",
      "Education;Pretend Play : 0.06\n",
      "Role Playing;Pretend Play : 0.05\n",
      "Education;Creativity : 0.05\n",
      "Role Playing;Action & Adventure : 0.03\n",
      "Puzzle;Action & Adventure : 0.03\n",
      "Entertainment;Creativity : 0.03\n",
      "Entertainment;Action & Adventure : 0.03\n",
      "Educational;Creativity : 0.03\n",
      "Educational;Action & Adventure : 0.03\n",
      "Education;Music & Video : 0.03\n",
      "Education;Brain Games : 0.03\n",
      "Education;Action & Adventure : 0.03\n",
      "Adventure;Action & Adventure : 0.03\n",
      "Video Players & Editors;Music & Video : 0.02\n",
      "Sports;Action & Adventure : 0.02\n",
      "Simulation;Pretend Play : 0.02\n",
      "Puzzle;Creativity : 0.02\n",
      "Music;Music & Video : 0.02\n",
      "Entertainment;Pretend Play : 0.02\n",
      "Casual;Education : 0.02\n",
      "Board;Action & Adventure : 0.02\n",
      "Video Players & Editors;Creativity : 0.01\n",
      "Trivia;Education : 0.01\n",
      "Travel & Local;Action & Adventure : 0.01\n",
      "Tools;Education : 0.01\n",
      "Strategy;Education : 0.01\n",
      "Strategy;Creativity : 0.01\n",
      "Strategy;Action & Adventure : 0.01\n",
      "Simulation;Education : 0.01\n",
      "Role Playing;Brain Games : 0.01\n",
      "Racing;Pretend Play : 0.01\n",
      "Puzzle;Education : 0.01\n",
      "Parenting;Brain Games : 0.01\n",
      "Music & Audio;Music & Video : 0.01\n",
      "Lifestyle;Pretend Play : 0.01\n",
      "Lifestyle;Education : 0.01\n",
      "Health & Fitness;Education : 0.01\n",
      "Health & Fitness;Action & Adventure : 0.01\n",
      "Entertainment;Education : 0.01\n",
      "Communication;Creativity : 0.01\n",
      "Comics;Creativity : 0.01\n",
      "Casual;Music & Video : 0.01\n",
      "Card;Action & Adventure : 0.01\n",
      "Books & Reference;Education : 0.01\n",
      "Art & Design;Pretend Play : 0.01\n",
      "Art & Design;Action & Adventure : 0.01\n",
      "Arcade;Pretend Play : 0.01\n",
      "Adventure;Education : 0.01\n",
      "category_freq---------------------------\n",
      "FAMILY : 18.91\n",
      "GAME : 9.72\n",
      "TOOLS : 8.46\n",
      "BUSINESS : 4.59\n",
      "LIFESTYLE : 3.9\n",
      "PRODUCTIVITY : 3.89\n",
      "FINANCE : 3.7\n",
      "MEDICAL : 3.53\n",
      "SPORTS : 3.4\n",
      "PERSONALIZATION : 3.32\n",
      "COMMUNICATION : 3.24\n",
      "HEALTH_AND_FITNESS : 3.08\n",
      "PHOTOGRAPHY : 2.94\n",
      "NEWS_AND_MAGAZINES : 2.8\n",
      "SOCIAL : 2.66\n",
      "TRAVEL_AND_LOCAL : 2.34\n",
      "SHOPPING : 2.25\n",
      "BOOKS_AND_REFERENCE : 2.14\n",
      "DATING : 1.86\n",
      "VIDEO_PLAYERS : 1.79\n",
      "MAPS_AND_NAVIGATION : 1.4\n",
      "FOOD_AND_DRINK : 1.24\n",
      "EDUCATION : 1.16\n",
      "ENTERTAINMENT : 0.96\n",
      "LIBRARIES_AND_DEMO : 0.94\n",
      "AUTO_AND_VEHICLES : 0.93\n",
      "HOUSE_AND_HOME : 0.82\n",
      "WEATHER : 0.8\n",
      "EVENTS : 0.71\n",
      "PARENTING : 0.65\n",
      "ART_AND_DESIGN : 0.64\n",
      "COMICS : 0.62\n",
      "BEAUTY : 0.6\n"
     ]
    }
   ],
   "source": [
    "print('prime_genre_freq-----------------------')\r\n",
    "prime_genre_freq = display_table(ios_clean_english_free,11)\r\n",
    "print('genre_freq------------------------')\r\n",
    "genre_freq = display_table(android_clean_english_free,9)\r\n",
    "print('category_freq---------------------------')\r\n",
    "category_freq = display_table(android_clean_english_free,1)"
   ]
  },
  {
   "cell_type": "markdown",
   "metadata": {},
   "source": [
    "## Analysis\r\n",
    "### Analysis of \"prime_genre\" in App Store data\r\n",
    "* The most common genre is \"Games\". The second most common genre is \"Entertaiment\"\r\n",
    "* The least common genre is \"Catalog\".\r\n",
    "* Most apps are designed for entertainment purpose (games, photo and videos etc) as opposed to the practical purposes (education, shopping, utilities etc)"
   ]
  },
  {
   "cell_type": "code",
   "execution_count": 30,
   "metadata": {},
   "outputs": [
    {
     "name": "stdout",
     "output_type": "stream",
     "text": [
      "('Social Networking', 3.59)\n",
      "('Photo & Video', 3.9)\n",
      "('Games', 4.04)\n",
      "('Music', 3.95)\n",
      "('Reference', 3.67)\n",
      "('Health & Fitness', 3.77)\n",
      "('Weather', 3.48)\n",
      "('Utilities', 3.53)\n",
      "('Travel', 3.49)\n",
      "('Shopping', 3.97)\n",
      "('News', 3.24)\n",
      "('Navigation', 3.83)\n",
      "('Lifestyle', 3.41)\n",
      "('Entertainment', 3.54)\n",
      "('Food & Drink', 3.63)\n",
      "('Sports', 3.07)\n",
      "('Book', 3.07)\n",
      "('Finance', 3.38)\n",
      "('Education', 3.64)\n",
      "('Productivity', 4.0)\n",
      "('Business', 3.97)\n",
      "('Catalogs', 4.12)\n",
      "('Medical', 3.0)\n"
     ]
    }
   ],
   "source": [
    "prime_genre_freq = freq_table(ios_clean_english_free,11)\r\n",
    "avg_prime_genre_rating_dict ={}\r\n",
    "for genre in prime_genre_freq.keys():\r\n",
    "    total = 0\r\n",
    "    len_genre = 0\r\n",
    "    for app in ios_clean_english_free:\r\n",
    "        genre_app = app[11]\r\n",
    "        if genre_app == genre:\r\n",
    "            user_rating = float(app[7])\r\n",
    "            total += user_rating\r\n",
    "            len_genre+=1\r\n",
    "    avg_rating = round(total/len_genre,2)\r\n",
    "    avg_prime_genre_rating_dict[genre] = avg_rating\r\n",
    "    print((genre,avg_rating))"
   ]
  },
  {
   "cell_type": "markdown",
   "metadata": {},
   "source": [
    "### App Store app recommnedation\r\n",
    "Besed on the analysis above based on user rating per genre, the recommended app profile should be \"Games\"."
   ]
  },
  {
   "cell_type": "markdown",
   "metadata": {},
   "source": [
    "### Analysis of \"Category\" and \"Genres\" in Play Store data\r\n",
    "* Tools, Entertainment, Education, Business are the most common genres.\r\n",
    "* Apps for practical and well as for entertainment is present which is in contrast with the App Store data.\r\n",
    "* An app which can cover both entertainment and gaming genre can become a profitable app.\r\n",
    "* The frequncy tables indicate that the app genres with most frequency can be the apps with most users. But some other parameters must be considered before a concrete conclusion. "
   ]
  },
  {
   "cell_type": "code",
   "execution_count": 31,
   "metadata": {},
   "outputs": [
    {
     "name": "stdout",
     "output_type": "stream",
     "text": [
      "('ART_AND_DESIGN', '18870183.33')\n",
      "('AUTO_AND_VEHICLES', '8846676.83')\n",
      "('BEAUTY', '4532841.67')\n",
      "('BOOKS_AND_REFERENCE', '277647376.67')\n",
      "('BUSINESS', '116150348.33')\n",
      "('COMICS', '7495191.67')\n",
      "('COMMUNICATION', '1839484366.83')\n",
      "('DATING', '23485792.83')\n",
      "('EDUCATION', '31475000.0')\n",
      "('ENTERTAINMENT', '164910000.0')\n",
      "('EVENTS', '2662193.33')\n",
      "('FINANCE', '75860522.0')\n",
      "('FOOD_AND_DRINK', '35289791.83')\n",
      "('HEALTH_AND_FITNESS', '190591400.33')\n",
      "('HOUSE_AND_HOME', '16200410.17')\n",
      "('LIBRARIES_AND_DEMO', '8832635.0')\n",
      "('LIFESTYLE', '82914071.5')\n",
      "('GAME', '2239478241.67')\n",
      "('FAMILY', '1032315948.33')\n",
      "('MEDICAL', '6288724.0')\n",
      "('SOCIAL', '914643650.33')\n",
      "('SHOPPING', '233389764.17')\n",
      "('PHOTOGRAPHY', '776044802.5')\n",
      "('SPORTS', '182538447.17')\n",
      "('TRAVEL_AND_LOCAL', '482450681.0')\n",
      "('TOOLS', '1350173912.33')\n",
      "('PERSONALIZATION', '254872648.0')\n",
      "('PRODUCTIVITY', '965271552.33')\n",
      "('PARENTING', '5245168.33')\n",
      "('WEATHER', '60048086.67')\n",
      "('VIDEO_PLAYERS', '655288620.0')\n",
      "('NEWS_AND_MAGAZINES', '394699376.67')\n",
      "('MAPS_AND_NAVIGATION', '83843463.33')\n"
     ]
    }
   ],
   "source": [
    "category_freq = freq_table(android_clean_english_free,1)\r\n",
    "avg_catergory_rating_dict={}\r\n",
    "for category in category_freq.keys():\r\n",
    "    total = 0\r\n",
    "    len_category = 0\r\n",
    "    for app in android_clean_english_free:\r\n",
    "        category_app = app[1]\r\n",
    "        if category_app == category:\r\n",
    "            app_install = app[5]\r\n",
    "            apin1 = app_install.replace('+','')\r\n",
    "            apin2 = apin1.replace(',','')\r\n",
    "            total += float(apin2)\r\n",
    "            len_category+=1\r\n",
    "    avg_rating = format(round(total/len_genre,2))\r\n",
    "    avg_catergory_rating_dict[category] = avg_rating\r\n",
    "    print((category, avg_rating))"
   ]
  },
  {
   "cell_type": "code",
   "execution_count": 33,
   "metadata": {},
   "outputs": [
    {
     "name": "stdout",
     "output_type": "stream",
     "text": [
      "PRODUCTIVITY\n",
      "Catalogs\n"
     ]
    }
   ],
   "source": [
    "print(max(avg_catergory_rating_dict, key = avg_catergory_rating_dict.get))\r\n",
    "print(max(avg_prime_genre_rating_dict, key= avg_prime_genre_rating_dict.get))"
   ]
  },
  {
   "cell_type": "markdown",
   "metadata": {},
   "source": [
    "### Most profitable app profile\r\n",
    "App that deals with productivity will be the most profitable app profile."
   ]
  }
 ],
 "metadata": {
  "kernelspec": {
   "display_name": "Python 3.6.10 64-bit ('myenv': conda)",
   "name": "python3610jvsc74a57bd0a2a8372909475601f31d5921ecbb3ad9bf0c711488524ec26be0f4a493fe781e"
  },
  "language_info": {
   "codemirror_mode": {
    "name": "ipython",
    "version": 3
   },
   "file_extension": ".py",
   "mimetype": "text/x-python",
   "name": "python",
   "nbconvert_exporter": "python",
   "pygments_lexer": "ipython3",
   "version": "3.6.10"
  },
  "orig_nbformat": 3
 },
 "nbformat": 4,
 "nbformat_minor": 2
}